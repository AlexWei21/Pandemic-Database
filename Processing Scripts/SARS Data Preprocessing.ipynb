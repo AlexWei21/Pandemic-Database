{
 "cells": [
  {
   "cell_type": "code",
   "execution_count": 8,
   "metadata": {},
   "outputs": [],
   "source": [
    "import pandas as pd\n",
    "import numpy as np\n",
    "from matplotlib import pyplot as plt"
   ]
  },
  {
   "cell_type": "code",
   "execution_count": 3,
   "metadata": {},
   "outputs": [
    {
     "data": {
      "text/html": [
       "<div>\n",
       "<style scoped>\n",
       "    .dataframe tbody tr th:only-of-type {\n",
       "        vertical-align: middle;\n",
       "    }\n",
       "\n",
       "    .dataframe tbody tr th {\n",
       "        vertical-align: top;\n",
       "    }\n",
       "\n",
       "    .dataframe thead th {\n",
       "        text-align: right;\n",
       "    }\n",
       "</style>\n",
       "<table border=\"1\" class=\"dataframe\">\n",
       "  <thead>\n",
       "    <tr style=\"text-align: right;\">\n",
       "      <th></th>\n",
       "      <th>Virus Family</th>\n",
       "      <th>Virus Genus</th>\n",
       "      <th>Virus Species</th>\n",
       "      <th>Region</th>\n",
       "      <th>Sub-region</th>\n",
       "      <th>Date</th>\n",
       "      <th>Type</th>\n",
       "      <th>Case Number</th>\n",
       "      <th>Comments</th>\n",
       "    </tr>\n",
       "  </thead>\n",
       "  <tbody>\n",
       "    <tr>\n",
       "      <th>0</th>\n",
       "      <td>Coronaviridae</td>\n",
       "      <td>Betacoronavirus</td>\n",
       "      <td>SARS-CoV-1</td>\n",
       "      <td>Europe</td>\n",
       "      <td>Germany</td>\n",
       "      <td>2003-03-17</td>\n",
       "      <td>Cases</td>\n",
       "      <td>1</td>\n",
       "      <td>NaN</td>\n",
       "    </tr>\n",
       "    <tr>\n",
       "      <th>1</th>\n",
       "      <td>Coronaviridae</td>\n",
       "      <td>Betacoronavirus</td>\n",
       "      <td>SARS-CoV-1</td>\n",
       "      <td>North America</td>\n",
       "      <td>Canada</td>\n",
       "      <td>2003-03-17</td>\n",
       "      <td>Cases</td>\n",
       "      <td>8</td>\n",
       "      <td>NaN</td>\n",
       "    </tr>\n",
       "    <tr>\n",
       "      <th>2</th>\n",
       "      <td>Coronaviridae</td>\n",
       "      <td>Betacoronavirus</td>\n",
       "      <td>SARS-CoV-1</td>\n",
       "      <td>Asia</td>\n",
       "      <td>Singapore</td>\n",
       "      <td>2003-03-17</td>\n",
       "      <td>Cases</td>\n",
       "      <td>20</td>\n",
       "      <td>NaN</td>\n",
       "    </tr>\n",
       "    <tr>\n",
       "      <th>3</th>\n",
       "      <td>Coronaviridae</td>\n",
       "      <td>Betacoronavirus</td>\n",
       "      <td>SARS-CoV-1</td>\n",
       "      <td>Asia</td>\n",
       "      <td>Hong Kong SAR, China</td>\n",
       "      <td>2003-03-17</td>\n",
       "      <td>Cases</td>\n",
       "      <td>95</td>\n",
       "      <td>NaN</td>\n",
       "    </tr>\n",
       "    <tr>\n",
       "      <th>4</th>\n",
       "      <td>Coronaviridae</td>\n",
       "      <td>Betacoronavirus</td>\n",
       "      <td>SARS-CoV-1</td>\n",
       "      <td>Europe</td>\n",
       "      <td>Switzerland</td>\n",
       "      <td>2003-03-17</td>\n",
       "      <td>Cases</td>\n",
       "      <td>2</td>\n",
       "      <td>NaN</td>\n",
       "    </tr>\n",
       "    <tr>\n",
       "      <th>...</th>\n",
       "      <td>...</td>\n",
       "      <td>...</td>\n",
       "      <td>...</td>\n",
       "      <td>...</td>\n",
       "      <td>...</td>\n",
       "      <td>...</td>\n",
       "      <td>...</td>\n",
       "      <td>...</td>\n",
       "      <td>...</td>\n",
       "    </tr>\n",
       "    <tr>\n",
       "      <th>7609</th>\n",
       "      <td>Coronaviridae</td>\n",
       "      <td>Betacoronavirus</td>\n",
       "      <td>SARS-CoV-1</td>\n",
       "      <td>Europe</td>\n",
       "      <td>Switzerland</td>\n",
       "      <td>2003-07-11</td>\n",
       "      <td>Recovered</td>\n",
       "      <td>1</td>\n",
       "      <td>NaN</td>\n",
       "    </tr>\n",
       "    <tr>\n",
       "      <th>7610</th>\n",
       "      <td>Coronaviridae</td>\n",
       "      <td>Betacoronavirus</td>\n",
       "      <td>SARS-CoV-1</td>\n",
       "      <td>Asia</td>\n",
       "      <td>Thailand</td>\n",
       "      <td>2003-07-11</td>\n",
       "      <td>Recovered</td>\n",
       "      <td>7</td>\n",
       "      <td>NaN</td>\n",
       "    </tr>\n",
       "    <tr>\n",
       "      <th>7611</th>\n",
       "      <td>Coronaviridae</td>\n",
       "      <td>Betacoronavirus</td>\n",
       "      <td>SARS-CoV-1</td>\n",
       "      <td>Europe</td>\n",
       "      <td>United Kingdom</td>\n",
       "      <td>2003-07-11</td>\n",
       "      <td>Recovered</td>\n",
       "      <td>4</td>\n",
       "      <td>NaN</td>\n",
       "    </tr>\n",
       "    <tr>\n",
       "      <th>7612</th>\n",
       "      <td>Coronaviridae</td>\n",
       "      <td>Betacoronavirus</td>\n",
       "      <td>SARS-CoV-1</td>\n",
       "      <td>North America</td>\n",
       "      <td>United States</td>\n",
       "      <td>2003-07-11</td>\n",
       "      <td>Recovered</td>\n",
       "      <td>67</td>\n",
       "      <td>NaN</td>\n",
       "    </tr>\n",
       "    <tr>\n",
       "      <th>7613</th>\n",
       "      <td>Coronaviridae</td>\n",
       "      <td>Betacoronavirus</td>\n",
       "      <td>SARS-CoV-1</td>\n",
       "      <td>Asia</td>\n",
       "      <td>Viet Nam</td>\n",
       "      <td>2003-07-11</td>\n",
       "      <td>Recovered</td>\n",
       "      <td>58</td>\n",
       "      <td>NaN</td>\n",
       "    </tr>\n",
       "  </tbody>\n",
       "</table>\n",
       "<p>7614 rows × 9 columns</p>\n",
       "</div>"
      ],
      "text/plain": [
       "       Virus Family      Virus Genus Virus Species         Region  \\\n",
       "0     Coronaviridae  Betacoronavirus    SARS-CoV-1         Europe   \n",
       "1     Coronaviridae  Betacoronavirus    SARS-CoV-1  North America   \n",
       "2     Coronaviridae  Betacoronavirus    SARS-CoV-1           Asia   \n",
       "3     Coronaviridae  Betacoronavirus    SARS-CoV-1           Asia   \n",
       "4     Coronaviridae  Betacoronavirus    SARS-CoV-1         Europe   \n",
       "...             ...              ...           ...            ...   \n",
       "7609  Coronaviridae  Betacoronavirus    SARS-CoV-1         Europe   \n",
       "7610  Coronaviridae  Betacoronavirus    SARS-CoV-1           Asia   \n",
       "7611  Coronaviridae  Betacoronavirus    SARS-CoV-1         Europe   \n",
       "7612  Coronaviridae  Betacoronavirus    SARS-CoV-1  North America   \n",
       "7613  Coronaviridae  Betacoronavirus    SARS-CoV-1           Asia   \n",
       "\n",
       "                Sub-region        Date       Type  Case Number  Comments  \n",
       "0                  Germany  2003-03-17      Cases            1       NaN  \n",
       "1                   Canada  2003-03-17      Cases            8       NaN  \n",
       "2                Singapore  2003-03-17      Cases           20       NaN  \n",
       "3     Hong Kong SAR, China  2003-03-17      Cases           95       NaN  \n",
       "4              Switzerland  2003-03-17      Cases            2       NaN  \n",
       "...                    ...         ...        ...          ...       ...  \n",
       "7609           Switzerland  2003-07-11  Recovered            1       NaN  \n",
       "7610              Thailand  2003-07-11  Recovered            7       NaN  \n",
       "7611        United Kingdom  2003-07-11  Recovered            4       NaN  \n",
       "7612         United States  2003-07-11  Recovered           67       NaN  \n",
       "7613              Viet Nam  2003-07-11  Recovered           58       NaN  \n",
       "\n",
       "[7614 rows x 9 columns]"
      ]
     },
     "execution_count": 3,
     "metadata": {},
     "output_type": "execute_result"
    }
   ],
   "source": [
    "SARS_data = pd.read_csv(\"F:/Pandemic-Database/SARS/Clean_SARS_Data.csv\")\n",
    "SARS_data"
   ]
  },
  {
   "cell_type": "code",
   "execution_count": 45,
   "metadata": {},
   "outputs": [
    {
     "data": {
      "text/html": [
       "<div>\n",
       "<style scoped>\n",
       "    .dataframe tbody tr th:only-of-type {\n",
       "        vertical-align: middle;\n",
       "    }\n",
       "\n",
       "    .dataframe tbody tr th {\n",
       "        vertical-align: top;\n",
       "    }\n",
       "\n",
       "    .dataframe thead th {\n",
       "        text-align: right;\n",
       "    }\n",
       "</style>\n",
       "<table border=\"1\" class=\"dataframe\">\n",
       "  <thead>\n",
       "    <tr style=\"text-align: right;\">\n",
       "      <th></th>\n",
       "      <th>Date</th>\n",
       "      <th>Case Number</th>\n",
       "    </tr>\n",
       "  </thead>\n",
       "  <tbody>\n",
       "    <tr>\n",
       "      <th>0</th>\n",
       "      <td>2003-03-19</td>\n",
       "      <td>11</td>\n",
       "    </tr>\n",
       "    <tr>\n",
       "      <th>1</th>\n",
       "      <td>2003-03-20</td>\n",
       "      <td>11</td>\n",
       "    </tr>\n",
       "    <tr>\n",
       "      <th>2</th>\n",
       "      <td>2003-03-21</td>\n",
       "      <td>13</td>\n",
       "    </tr>\n",
       "    <tr>\n",
       "      <th>3</th>\n",
       "      <td>2003-03-22</td>\n",
       "      <td>22</td>\n",
       "    </tr>\n",
       "    <tr>\n",
       "      <th>4</th>\n",
       "      <td>2003-03-24</td>\n",
       "      <td>37</td>\n",
       "    </tr>\n",
       "    <tr>\n",
       "      <th>...</th>\n",
       "      <td>...</td>\n",
       "      <td>...</td>\n",
       "    </tr>\n",
       "    <tr>\n",
       "      <th>89</th>\n",
       "      <td>2003-07-07</td>\n",
       "      <td>73</td>\n",
       "    </tr>\n",
       "    <tr>\n",
       "      <th>90</th>\n",
       "      <td>2003-07-08</td>\n",
       "      <td>74</td>\n",
       "    </tr>\n",
       "    <tr>\n",
       "      <th>91</th>\n",
       "      <td>2003-07-09</td>\n",
       "      <td>75</td>\n",
       "    </tr>\n",
       "    <tr>\n",
       "      <th>92</th>\n",
       "      <td>2003-07-10</td>\n",
       "      <td>75</td>\n",
       "    </tr>\n",
       "    <tr>\n",
       "      <th>93</th>\n",
       "      <td>2003-07-11</td>\n",
       "      <td>75</td>\n",
       "    </tr>\n",
       "  </tbody>\n",
       "</table>\n",
       "<p>94 rows × 2 columns</p>\n",
       "</div>"
      ],
      "text/plain": [
       "          Date  Case Number\n",
       "0   2003-03-19           11\n",
       "1   2003-03-20           11\n",
       "2   2003-03-21           13\n",
       "3   2003-03-22           22\n",
       "4   2003-03-24           37\n",
       "..         ...          ...\n",
       "89  2003-07-07           73\n",
       "90  2003-07-08           74\n",
       "91  2003-07-09           75\n",
       "92  2003-07-10           75\n",
       "93  2003-07-11           75\n",
       "\n",
       "[94 rows x 2 columns]"
      ]
     },
     "execution_count": 45,
     "metadata": {},
     "output_type": "execute_result"
    }
   ],
   "source": [
    "us_data = SARS_data[(SARS_data['Sub-region'] == 'United States') & (SARS_data['Type'] == 'Cases')]\n",
    "us_data_clean = us_data[['Date','Case Number']]\n",
    "us_data_clean = us_data_clean.reset_index(drop = True)\n",
    "us_data_clean"
   ]
  },
  {
   "cell_type": "code",
   "execution_count": 46,
   "metadata": {},
   "outputs": [
    {
     "data": {
      "text/plain": [
       "<AxesSubplot:>"
      ]
     },
     "execution_count": 46,
     "metadata": {},
     "output_type": "execute_result"
    },
    {
     "data": {
      "image/png": "[encoded data removed]",
      "text/plain": [
       "<Figure size 432x288 with 1 Axes>"
      ]
     },
     "metadata": {
      "needs_background": "light"
     },
     "output_type": "display_data"
    }
   ],
   "source": [
    "us_data_clean.plot()"
   ]
  },
  {
   "cell_type": "code",
   "execution_count": 41,
   "metadata": {},
   "outputs": [],
   "source": [
    "cn_data = SARS_data[(SARS_data['Sub-region'] == 'China') & (SARS_data['Type'] == 'Cases') &(SARS_data['Date']!='2003-04-12')]\n",
    "cn_data = cn_data.reset_index(drop=True)\n",
    "cn_data['Case_diff'] = cn_data['Case Number'].diff()\n",
    "cn_data = cn_data[['Date','Case_diff']]"
   ]
  },
  {
   "cell_type": "code",
   "execution_count": 42,
   "metadata": {},
   "outputs": [
    {
     "data": {
      "text/plain": [
       "<AxesSubplot:>"
      ]
     },
     "execution_count": 42,
     "metadata": {},
     "output_type": "execute_result"
    },
    {
     "data": {
      "image/png": "[encoded data removed]",
      "text/plain": [
       "<Figure size 432x288 with 1 Axes>"
      ]
     },
     "metadata": {
      "needs_background": "light"
     },
     "output_type": "display_data"
    }
   ],
   "source": [
    "cn_data.plot()"
   ]
  },
  {
   "cell_type": "code",
   "execution_count": null,
   "metadata": {},
   "outputs": [],
   "source": []
  }
 ],
 "metadata": {
  "kernelspec": {
   "display_name": "Python 3 (ipykernel)",
   "language": "python",
   "name": "python3"
  },
  "language_info": {
   "codemirror_mode": {
    "name": "ipython",
    "version": 3
   },
   "file_extension": ".py",
   "mimetype": "text/x-python",
   "name": "python",
   "nbconvert_exporter": "python",
   "pygments_lexer": "ipython3",
   "version": "3.9.7"
  }
 },
 "nbformat": 4,
 "nbformat_minor": 1
}
