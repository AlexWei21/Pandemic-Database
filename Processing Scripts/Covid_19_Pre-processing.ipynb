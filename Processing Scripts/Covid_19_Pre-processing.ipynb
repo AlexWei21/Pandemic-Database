{
 "cells": [
  {
   "cell_type": "code",
   "execution_count": 7,
   "metadata": {
    "collapsed": true
   },
   "outputs": [],
   "source": [
    "import pandas as pd\n",
    "import numpy as np"
   ]
  },
  {
   "cell_type": "code",
   "execution_count": 8,
   "outputs": [
    {
     "data": {
      "text/plain": "    Virus Family      Virus Genus Virus Species         Region Sub-region  \\\n0  Coronaviridae  Betacoronavirus    SARS-CoV-2  United States         AK   \n1  Coronaviridae  Betacoronavirus    SARS-CoV-2  United States         AK   \n2  Coronaviridae  Betacoronavirus    SARS-CoV-2  United States         AK   \n3  Coronaviridae  Betacoronavirus    SARS-CoV-2  United States         AK   \n4  Coronaviridae  Betacoronavirus    SARS-CoV-2  United States         AK   \n\n         Date       Type  Case Number  Comments  \n0  2020/07/15  Confirmed         11.0       NaN  \n1  2020/07/15  Suspected         17.0       NaN  \n2  2020/07/16  Confirmed         14.0       NaN  \n3  2020/07/16  Suspected         17.0       NaN  \n4  2020/07/17  Confirmed         13.0       NaN  ",
      "text/html": "<div>\n<style scoped>\n    .dataframe tbody tr th:only-of-type {\n        vertical-align: middle;\n    }\n\n    .dataframe tbody tr th {\n        vertical-align: top;\n    }\n\n    .dataframe thead th {\n        text-align: right;\n    }\n</style>\n<table border=\"1\" class=\"dataframe\">\n  <thead>\n    <tr style=\"text-align: right;\">\n      <th></th>\n      <th>Virus Family</th>\n      <th>Virus Genus</th>\n      <th>Virus Species</th>\n      <th>Region</th>\n      <th>Sub-region</th>\n      <th>Date</th>\n      <th>Type</th>\n      <th>Case Number</th>\n      <th>Comments</th>\n    </tr>\n  </thead>\n  <tbody>\n    <tr>\n      <th>0</th>\n      <td>Coronaviridae</td>\n      <td>Betacoronavirus</td>\n      <td>SARS-CoV-2</td>\n      <td>United States</td>\n      <td>AK</td>\n      <td>2020/07/15</td>\n      <td>Confirmed</td>\n      <td>11.0</td>\n      <td>NaN</td>\n    </tr>\n    <tr>\n      <th>1</th>\n      <td>Coronaviridae</td>\n      <td>Betacoronavirus</td>\n      <td>SARS-CoV-2</td>\n      <td>United States</td>\n      <td>AK</td>\n      <td>2020/07/15</td>\n      <td>Suspected</td>\n      <td>17.0</td>\n      <td>NaN</td>\n    </tr>\n    <tr>\n      <th>2</th>\n      <td>Coronaviridae</td>\n      <td>Betacoronavirus</td>\n      <td>SARS-CoV-2</td>\n      <td>United States</td>\n      <td>AK</td>\n      <td>2020/07/16</td>\n      <td>Confirmed</td>\n      <td>14.0</td>\n      <td>NaN</td>\n    </tr>\n    <tr>\n      <th>3</th>\n      <td>Coronaviridae</td>\n      <td>Betacoronavirus</td>\n      <td>SARS-CoV-2</td>\n      <td>United States</td>\n      <td>AK</td>\n      <td>2020/07/16</td>\n      <td>Suspected</td>\n      <td>17.0</td>\n      <td>NaN</td>\n    </tr>\n    <tr>\n      <th>4</th>\n      <td>Coronaviridae</td>\n      <td>Betacoronavirus</td>\n      <td>SARS-CoV-2</td>\n      <td>United States</td>\n      <td>AK</td>\n      <td>2020/07/17</td>\n      <td>Confirmed</td>\n      <td>13.0</td>\n      <td>NaN</td>\n    </tr>\n  </tbody>\n</table>\n</div>"
     },
     "execution_count": 8,
     "metadata": {},
     "output_type": "execute_result"
    }
   ],
   "source": [
    "covid_19_clean_data = pd.read_csv(\"F:/Pandemic-Database/Covid 19/Covid-19_Clean_Data.csv\")\n",
    "covid_19_clean_data.head()"
   ],
   "metadata": {
    "collapsed": false,
    "pycharm": {
     "name": "#%%\n"
    }
   }
  },
  {
   "cell_type": "code",
   "execution_count": 8,
   "outputs": [],
   "source": [
    "covid_19_clean_data[(covid_19_clean_data['Sub-region'] == 'MA') & (covid_19_clean_data['Type'] == 'Confirmed')][['Date','Case Number']].to_csv('F:/Pandemic-Database/Covid 19/Covid_MA_Confirmed_Value_Only.csv', index = False)"
   ],
   "metadata": {
    "collapsed": false,
    "pycharm": {
     "name": "#%%\n"
    }
   }
  },
  {
   "cell_type": "code",
   "execution_count": 13,
   "outputs": [],
   "source": [
    "covid_19_clean_data_confirm_and_sus = covid_19_clean_data[covid_19_clean_data['Sub-region'] == 'MA'][['Date','Case Number','Type']]\n",
    "covid_19_clean_data_confirm_and_sus = covid_19_clean_data_confirm_and_sus.pivot(index = 'Date', columns = 'Type')\n",
    "covid_19_clean_data_confirm_and_sus = covid_19_clean_data_confirm_and_sus.reset_index()"
   ],
   "metadata": {
    "collapsed": false,
    "pycharm": {
     "name": "#%%\n"
    }
   }
  },
  {
   "cell_type": "code",
   "execution_count": 15,
   "outputs": [],
   "source": [
    "covid_19_clean_data_confirm_and_sus.to_csv('F:/Pandemic-Database/Covid 19/Covid_MA_Confirmed_Suspected_Value.csv', index = False)"
   ],
   "metadata": {
    "collapsed": false,
    "pycharm": {
     "name": "#%%\n"
    }
   }
  },
  {
   "cell_type": "code",
   "execution_count": null,
   "outputs": [],
   "source": [],
   "metadata": {
    "collapsed": false,
    "pycharm": {
     "name": "#%%\n"
    }
   }
  }
 ],
 "metadata": {
  "kernelspec": {
   "display_name": "Python 3",
   "language": "python",
   "name": "python3"
  },
  "language_info": {
   "codemirror_mode": {
    "name": "ipython",
    "version": 2
   },
   "file_extension": ".py",
   "mimetype": "text/x-python",
   "name": "python",
   "nbconvert_exporter": "python",
   "pygments_lexer": "ipython2",
   "version": "2.7.6"
  }
 },
 "nbformat": 4,
 "nbformat_minor": 0
}