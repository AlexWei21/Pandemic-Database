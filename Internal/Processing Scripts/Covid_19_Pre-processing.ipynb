{
 "cells": [
  {
   "cell_type": "code",
   "execution_count": 2,
   "metadata": {},
   "outputs": [],
   "source": [
    "import pandas as pd\n",
    "import numpy as np"
   ]
  },
  {
   "cell_type": "code",
   "execution_count": 32,
   "metadata": {
    "collapsed": false,
    "jupyter": {
     "outputs_hidden": false
    },
    "pycharm": {
     "name": "#%%\n"
    }
   },
   "outputs": [],
   "source": [
    "who_data = pd.read_csv('F:/Pandemic-Database/Raw_Data/Covid 19/WHO-COVID-19-global-data.csv')\n",
    "\n",
    "who_data.insert(0,'Microbe Family','Coronaviridae')\n",
    "who_data.insert(1,'Microbe Genus','Betacoronavirus')\n",
    "who_data.insert(2,'Microbe Species','SARS-CoV-2')\n",
    "who_data.insert(3,'State/City','None')\n",
    "\n",
    "who_data = who_data.rename(columns={'Date_reported': 'date',\n",
    "                                   'WHO_region': 'Region',\n",
    "                                   'New_cases': 'Cases',\n",
    "                                   'Cumulative_cases': 'Cumulative_Cases',\n",
    "                                   'New_deaths': 'Deaths',\n",
    "                                   'Cumulative_deaths': 'Cumulative_Deaths'})\n",
    "\n",
    "clean_who_data = who_data[['Microbe Family', 'Microbe Genus', 'Microbe Species', 'Region', 'Country', \n",
    "                           'State/City', 'date', 'Cases', 'Cumulative_Cases','Deaths','Cumulative_Deaths']]"
   ]
  },
  {
   "cell_type": "code",
   "execution_count": 34,
   "metadata": {
    "collapsed": false,
    "jupyter": {
     "outputs_hidden": false
    },
    "pycharm": {
     "name": "#%%\n"
    }
   },
   "outputs": [
    {
     "data": {
      "text/html": [
       "<div>\n",
       "<style scoped>\n",
       "    .dataframe tbody tr th:only-of-type {\n",
       "        vertical-align: middle;\n",
       "    }\n",
       "\n",
       "    .dataframe tbody tr th {\n",
       "        vertical-align: top;\n",
       "    }\n",
       "\n",
       "    .dataframe thead th {\n",
       "        text-align: right;\n",
       "    }\n",
       "</style>\n",
       "<table border=\"1\" class=\"dataframe\">\n",
       "  <thead>\n",
       "    <tr style=\"text-align: right;\">\n",
       "      <th></th>\n",
       "      <th>Microbe Family</th>\n",
       "      <th>Microbe Genus</th>\n",
       "      <th>Microbe Species</th>\n",
       "      <th>Region</th>\n",
       "      <th>Country</th>\n",
       "      <th>State/City</th>\n",
       "      <th>date</th>\n",
       "      <th>type</th>\n",
       "      <th>number</th>\n",
       "    </tr>\n",
       "  </thead>\n",
       "  <tbody>\n",
       "    <tr>\n",
       "      <th>0</th>\n",
       "      <td>Coronaviridae</td>\n",
       "      <td>Betacoronavirus</td>\n",
       "      <td>SARS-CoV-2</td>\n",
       "      <td>EMRO</td>\n",
       "      <td>Afghanistan</td>\n",
       "      <td>None</td>\n",
       "      <td>2020-01-03</td>\n",
       "      <td>Cases</td>\n",
       "      <td>0</td>\n",
       "    </tr>\n",
       "    <tr>\n",
       "      <th>1</th>\n",
       "      <td>Coronaviridae</td>\n",
       "      <td>Betacoronavirus</td>\n",
       "      <td>SARS-CoV-2</td>\n",
       "      <td>EMRO</td>\n",
       "      <td>Afghanistan</td>\n",
       "      <td>None</td>\n",
       "      <td>2020-01-04</td>\n",
       "      <td>Cases</td>\n",
       "      <td>0</td>\n",
       "    </tr>\n",
       "    <tr>\n",
       "      <th>2</th>\n",
       "      <td>Coronaviridae</td>\n",
       "      <td>Betacoronavirus</td>\n",
       "      <td>SARS-CoV-2</td>\n",
       "      <td>EMRO</td>\n",
       "      <td>Afghanistan</td>\n",
       "      <td>None</td>\n",
       "      <td>2020-01-05</td>\n",
       "      <td>Cases</td>\n",
       "      <td>0</td>\n",
       "    </tr>\n",
       "    <tr>\n",
       "      <th>3</th>\n",
       "      <td>Coronaviridae</td>\n",
       "      <td>Betacoronavirus</td>\n",
       "      <td>SARS-CoV-2</td>\n",
       "      <td>EMRO</td>\n",
       "      <td>Afghanistan</td>\n",
       "      <td>None</td>\n",
       "      <td>2020-01-06</td>\n",
       "      <td>Cases</td>\n",
       "      <td>0</td>\n",
       "    </tr>\n",
       "    <tr>\n",
       "      <th>4</th>\n",
       "      <td>Coronaviridae</td>\n",
       "      <td>Betacoronavirus</td>\n",
       "      <td>SARS-CoV-2</td>\n",
       "      <td>EMRO</td>\n",
       "      <td>Afghanistan</td>\n",
       "      <td>None</td>\n",
       "      <td>2020-01-07</td>\n",
       "      <td>Cases</td>\n",
       "      <td>0</td>\n",
       "    </tr>\n",
       "    <tr>\n",
       "      <th>...</th>\n",
       "      <td>...</td>\n",
       "      <td>...</td>\n",
       "      <td>...</td>\n",
       "      <td>...</td>\n",
       "      <td>...</td>\n",
       "      <td>...</td>\n",
       "      <td>...</td>\n",
       "      <td>...</td>\n",
       "      <td>...</td>\n",
       "    </tr>\n",
       "    <tr>\n",
       "      <th>1319611</th>\n",
       "      <td>Coronaviridae</td>\n",
       "      <td>Betacoronavirus</td>\n",
       "      <td>SARS-CoV-2</td>\n",
       "      <td>AFRO</td>\n",
       "      <td>Zimbabwe</td>\n",
       "      <td>None</td>\n",
       "      <td>2023-10-21</td>\n",
       "      <td>Cumulative_Deaths</td>\n",
       "      <td>5720</td>\n",
       "    </tr>\n",
       "    <tr>\n",
       "      <th>1319612</th>\n",
       "      <td>Coronaviridae</td>\n",
       "      <td>Betacoronavirus</td>\n",
       "      <td>SARS-CoV-2</td>\n",
       "      <td>AFRO</td>\n",
       "      <td>Zimbabwe</td>\n",
       "      <td>None</td>\n",
       "      <td>2023-10-22</td>\n",
       "      <td>Cumulative_Deaths</td>\n",
       "      <td>5720</td>\n",
       "    </tr>\n",
       "    <tr>\n",
       "      <th>1319613</th>\n",
       "      <td>Coronaviridae</td>\n",
       "      <td>Betacoronavirus</td>\n",
       "      <td>SARS-CoV-2</td>\n",
       "      <td>AFRO</td>\n",
       "      <td>Zimbabwe</td>\n",
       "      <td>None</td>\n",
       "      <td>2023-10-23</td>\n",
       "      <td>Cumulative_Deaths</td>\n",
       "      <td>5720</td>\n",
       "    </tr>\n",
       "    <tr>\n",
       "      <th>1319614</th>\n",
       "      <td>Coronaviridae</td>\n",
       "      <td>Betacoronavirus</td>\n",
       "      <td>SARS-CoV-2</td>\n",
       "      <td>AFRO</td>\n",
       "      <td>Zimbabwe</td>\n",
       "      <td>None</td>\n",
       "      <td>2023-10-24</td>\n",
       "      <td>Cumulative_Deaths</td>\n",
       "      <td>5720</td>\n",
       "    </tr>\n",
       "    <tr>\n",
       "      <th>1319615</th>\n",
       "      <td>Coronaviridae</td>\n",
       "      <td>Betacoronavirus</td>\n",
       "      <td>SARS-CoV-2</td>\n",
       "      <td>AFRO</td>\n",
       "      <td>Zimbabwe</td>\n",
       "      <td>None</td>\n",
       "      <td>2023-10-25</td>\n",
       "      <td>Cumulative_Deaths</td>\n",
       "      <td>5720</td>\n",
       "    </tr>\n",
       "  </tbody>\n",
       "</table>\n",
       "<p>1319616 rows × 9 columns</p>\n",
       "</div>"
      ],
      "text/plain": [
       "        Microbe Family    Microbe Genus Microbe Species Region      Country  \\\n",
       "0        Coronaviridae  Betacoronavirus      SARS-CoV-2   EMRO  Afghanistan   \n",
       "1        Coronaviridae  Betacoronavirus      SARS-CoV-2   EMRO  Afghanistan   \n",
       "2        Coronaviridae  Betacoronavirus      SARS-CoV-2   EMRO  Afghanistan   \n",
       "3        Coronaviridae  Betacoronavirus      SARS-CoV-2   EMRO  Afghanistan   \n",
       "4        Coronaviridae  Betacoronavirus      SARS-CoV-2   EMRO  Afghanistan   \n",
       "...                ...              ...             ...    ...          ...   \n",
       "1319611  Coronaviridae  Betacoronavirus      SARS-CoV-2   AFRO     Zimbabwe   \n",
       "1319612  Coronaviridae  Betacoronavirus      SARS-CoV-2   AFRO     Zimbabwe   \n",
       "1319613  Coronaviridae  Betacoronavirus      SARS-CoV-2   AFRO     Zimbabwe   \n",
       "1319614  Coronaviridae  Betacoronavirus      SARS-CoV-2   AFRO     Zimbabwe   \n",
       "1319615  Coronaviridae  Betacoronavirus      SARS-CoV-2   AFRO     Zimbabwe   \n",
       "\n",
       "        State/City        date               type  number  \n",
       "0             None  2020-01-03              Cases       0  \n",
       "1             None  2020-01-04              Cases       0  \n",
       "2             None  2020-01-05              Cases       0  \n",
       "3             None  2020-01-06              Cases       0  \n",
       "4             None  2020-01-07              Cases       0  \n",
       "...            ...         ...                ...     ...  \n",
       "1319611       None  2023-10-21  Cumulative_Deaths    5720  \n",
       "1319612       None  2023-10-22  Cumulative_Deaths    5720  \n",
       "1319613       None  2023-10-23  Cumulative_Deaths    5720  \n",
       "1319614       None  2023-10-24  Cumulative_Deaths    5720  \n",
       "1319615       None  2023-10-25  Cumulative_Deaths    5720  \n",
       "\n",
       "[1319616 rows x 9 columns]"
      ]
     },
     "execution_count": 34,
     "metadata": {},
     "output_type": "execute_result"
    }
   ],
   "source": [
    "clean_who_data = pd.melt(clean_who_data,\n",
    "                         id_vars=['Microbe Family', 'Microbe Genus', 'Microbe Species', \n",
    "                                  'Region', 'Country', 'State/City', 'date'],\n",
    "                         value_vars=['Cases', 'Cumulative_Cases','Deaths','Cumulative_Deaths'],\n",
    "                         var_name='type',\n",
    "                         value_name='number')\n",
    "\n",
    "clean_who_data"
   ]
  },
  {
   "cell_type": "code",
   "execution_count": 36,
   "metadata": {},
   "outputs": [],
   "source": [
    "clean_who_data_cases = clean_who_data[clean_who_data['type'] == 'Cases']\n",
    "clean_who_data_deaths = clean_who_data[clean_who_data['type'] == 'Deaths']\n",
    "clean_who_data_cumulative_cases = clean_who_data[clean_who_data['type'] == 'Cumulative_Cases']\n",
    "clean_who_data_cumulative_deaths = clean_who_data[clean_who_data['type'] == 'Cumulative_Deaths']"
   ]
  },
  {
   "cell_type": "code",
   "execution_count": 37,
   "metadata": {
    "collapsed": false,
    "jupyter": {
     "outputs_hidden": false
    },
    "pycharm": {
     "name": "#%%\n"
    }
   },
   "outputs": [],
   "source": [
    "clean_who_data_cases.to_csv(\"F:/Pandemic-Database/Past_Pandemic_Time_Series_Data/Covid 19/Covid_World_Cases.csv\",\n",
    "                            index = False)\n",
    "clean_who_data_deaths.to_csv(\"F:/Pandemic-Database/Past_Pandemic_Time_Series_Data/Covid 19/Covid_World_Deaths.csv\",\n",
    "                            index = False)\n",
    "clean_who_data_cumulative_cases.to_csv(\"F:/Pandemic-Database/Past_Pandemic_Time_Series_Data/Covid 19/Covid_World_Cumulative_Cases.csv\",\n",
    "                            index = False)\n",
    "clean_who_data_cumulative_deaths.to_csv(\"F:/Pandemic-Database/Past_Pandemic_Time_Series_Data/Covid 19/Covid_World_Cumulative_Deaths.csv\",\n",
    "                            index = False)"
   ]
  },
  {
   "cell_type": "code",
   "execution_count": null,
   "metadata": {
    "collapsed": false,
    "jupyter": {
     "outputs_hidden": false
    },
    "pycharm": {
     "name": "#%%\n"
    }
   },
   "outputs": [],
   "source": []
  },
  {
   "cell_type": "code",
   "execution_count": null,
   "metadata": {},
   "outputs": [],
   "source": []
  }
 ],
 "metadata": {
  "kernelspec": {
   "display_name": "Python 3 (ipykernel)",
   "language": "python",
   "name": "python3"
  },
  "language_info": {
   "codemirror_mode": {
    "name": "ipython",
    "version": 3
   },
   "file_extension": ".py",
   "mimetype": "text/x-python",
   "name": "python",
   "nbconvert_exporter": "python",
   "pygments_lexer": "ipython3",
   "version": "3.10.12"
  }
 },
 "nbformat": 4,
 "nbformat_minor": 4
}
